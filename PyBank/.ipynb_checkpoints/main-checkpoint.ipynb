{
 "cells": [
  {
   "cell_type": "code",
   "execution_count": 10,
   "id": "stuck-bulletin",
   "metadata": {},
   "outputs": [
    {
     "ename": "SyntaxError",
     "evalue": "EOL while scanning string literal (<ipython-input-10-1337d2da27c4>, line 3)",
     "output_type": "error",
     "traceback": [
      "\u001b[0;36m  File \u001b[0;32m\"<ipython-input-10-1337d2da27c4>\"\u001b[0;36m, line \u001b[0;32m3\u001b[0m\n\u001b[0;31m    pybankcsvpath = Path('/PyBank/PyBank_Resources_budget_data.csv)\u001b[0m\n\u001b[0m                                                                   ^\u001b[0m\n\u001b[0;31mSyntaxError\u001b[0m\u001b[0;31m:\u001b[0m EOL while scanning string literal\n"
     ]
    }
   ],
   "source": [
    "from pathlib import Path\n",
    "import csv\n",
    "pybankcsvpath = Path('/PyBank/PyBank_Resources_budget_data.csv)\n",
    "\n",
    "pnls = []\n",
    "line_num = 0\n",
    "\n",
    "with open(pybankcsvpath, 'r') as pybankcsvfile:\n",
    "    print(type(pybankcsvfile))\n",
    "    \n",
    "    csvfilereader = csv.reader(pybankcsvfile, delimiter=',')\n",
    "    print(type(csvfilereader))\n",
    "\n",
    "    header = next(csvfilereader)\n",
    "    line_num += 1\n",
    "\n",
    "# TITLE\n",
    "\n",
    "    print(f'{header} FINANCIAL ANALYSIS')    \n",
    "\n",
    "    \n",
    "# DEFINE METRIC VARIABLES\n",
    "profit_month = []\n",
    "loss_month = []\n",
    "\n",
    "# DEFINE METRIC VARIABLES\n",
    "count_months = 0\n",
    "total_pnl = 0\n",
    "avg_pnl = 0\n",
    "min_pnl_change = 0\n",
    "min_pnl_change = 0\n",
    "\n",
    "\n",
    "# ====CALCULATIONS=====\n",
    "                     \n",
    "# COUNT & TOTAL\n",
    "                     \n",
    "for profit_losses in pnls\n",
    "                     \n",
    "    count_profit_losses += 1\n",
    "    total_profit_losses += profit_losses\n",
    "                     \n",
    "# AVERAGE CHANGES *from appended**3rd row**\n",
    "\n"
   ]
  },
  {
   "cell_type": "code",
   "execution_count": null,
   "id": "light-veteran",
   "metadata": {},
   "outputs": [],
   "source": []
  }
 ],
 "metadata": {
  "kernelspec": {
   "display_name": "Python 3",
   "language": "python",
   "name": "python3"
  },
  "language_info": {
   "codemirror_mode": {
    "name": "ipython",
    "version": 3
   },
   "file_extension": ".py",
   "mimetype": "text/x-python",
   "name": "python",
   "nbconvert_exporter": "python",
   "pygments_lexer": "ipython3",
   "version": "3.8.5"
  }
 },
 "nbformat": 4,
 "nbformat_minor": 5
}
