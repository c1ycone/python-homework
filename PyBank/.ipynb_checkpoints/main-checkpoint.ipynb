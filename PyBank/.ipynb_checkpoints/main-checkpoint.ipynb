{
 "cells": [
  {
   "cell_type": "code",
   "execution_count": 5,
   "id": "textile-bidding",
   "metadata": {},
   "outputs": [
    {
     "name": "stdout",
     "output_type": "stream",
     "text": [
      "    Unnamed: 0  Unnamed: 0.1  Unnamed: 0.1.1      Date  Profit/Losses  \\\n",
      "0            0             0               0  Jan-2010         867884   \n",
      "1            1             1               1  Feb-2010         984655   \n",
      "2            2             2               2  Mar-2010         322013   \n",
      "3            3             3               3  Apr-2010         -69417   \n",
      "4            4             4               4  May-2010         310503   \n",
      "..         ...           ...             ...       ...            ...   \n",
      "81          81            81              81  Oct-2016         102685   \n",
      "82          82            82              82  Nov-2016         795914   \n",
      "83          83            83              83  Dec-2016          60988   \n",
      "84          84            84              84  Jan-2017         138230   \n",
      "85          85            85              85  Feb-2017         671099   \n",
      "\n",
      "     Changes  \n",
      "0        NaN  \n",
      "1   116771.0  \n",
      "2  -662642.0  \n",
      "3  -391430.0  \n",
      "4   379920.0  \n",
      "..       ...  \n",
      "81 -665765.0  \n",
      "82  693229.0  \n",
      "83 -734926.0  \n",
      "84   77242.0  \n",
      "85  532869.0  \n",
      "\n",
      "[86 rows x 6 columns]\n"
     ]
    }
   ],
   "source": [
    "# Import csv file into python using pandas\n",
    "\n",
    "import numpy as np\n",
    "import pandas as pd\n",
    "\n",
    "csv_data = pd.read_csv(r'/Users/coneychiwabee/fintech_uoftbootcamp/Homework/Python/python-homework/PyBank/PyBank_Resources_budget_data.csv')\n",
    "\n",
    "print (csv_data)"
   ]
  },
  {
   "cell_type": "code",
   "execution_count": 6,
   "id": "maritime-sweden",
   "metadata": {},
   "outputs": [
    {
     "name": "stdout",
     "output_type": "stream",
     "text": [
      "    Unnamed: 0  Unnamed: 0.1  Unnamed: 0.1.1      Date  Profit/Losses  \\\n",
      "0            0             0               0  Jan-2010         867884   \n",
      "1            1             1               1  Feb-2010         984655   \n",
      "2            2             2               2  Mar-2010         322013   \n",
      "3            3             3               3  Apr-2010         -69417   \n",
      "4            4             4               4  May-2010         310503   \n",
      "..         ...           ...             ...       ...            ...   \n",
      "81          81            81              81  Oct-2016         102685   \n",
      "82          82            82              82  Nov-2016         795914   \n",
      "83          83            83              83  Dec-2016          60988   \n",
      "84          84            84              84  Jan-2017         138230   \n",
      "85          85            85              85  Feb-2017         671099   \n",
      "\n",
      "     Changes  \n",
      "0        NaN  \n",
      "1   116771.0  \n",
      "2  -662642.0  \n",
      "3  -391430.0  \n",
      "4   379920.0  \n",
      "..       ...  \n",
      "81 -665765.0  \n",
      "82  693229.0  \n",
      "83 -734926.0  \n",
      "84   77242.0  \n",
      "85  532869.0  \n",
      "\n",
      "[86 rows x 6 columns]\n"
     ]
    }
   ],
   "source": [
    "# Add 3rd column with header \"Changes\" with differences of Profit/Losses from previous month = Month 1 minus Month 0 and so on\n",
    "# Code reference: https://stackoverflow.com/questions/23142967/adding-a-column-thats-result-of-difference-in-consecutive-rows-in-pandas\n",
    "\n",
    "budget_data = pd.DataFrame(csv_data)\n",
    "budget_data['Changes'] = budget_data['Profit/Losses'].diff(1)\n",
    "\n",
    "print(budget_data)"
   ]
  },
  {
   "cell_type": "code",
   "execution_count": 7,
   "id": "formal-population",
   "metadata": {},
   "outputs": [
    {
     "name": "stdout",
     "output_type": "stream",
     "text": [
      "Total Months: 86\n"
     ]
    }
   ],
   "source": [
    "# Calculate total number of months included in the dataset.\n",
    "# Code reference: \n",
    "\n",
    "month_count = len(budget_data)\n",
    "\n",
    "print ('Total Months:', month_count)"
   ]
  },
  {
   "cell_type": "code",
   "execution_count": 10,
   "id": "adverse-edinburgh",
   "metadata": {},
   "outputs": [
    {
     "name": "stdout",
     "output_type": "stream",
     "text": [
      "Total: $ 38382578\n"
     ]
    }
   ],
   "source": [
    "# Calculate net total amount of Profit/Losses over the entire period.\n",
    "# Code reference: https://stackoverflow.com/questions/63420600/how-can-calculate-the-sum-of-a-column-but-taking-specific-rows-of-it-in-python\n",
    "\n",
    "total_pl = budget_data['Profit/Losses'].sum()\n",
    "\n",
    "print ('Total: $', total_pl)"
   ]
  },
  {
   "cell_type": "code",
   "execution_count": 11,
   "id": "informative-anthropology",
   "metadata": {},
   "outputs": [
    {
     "name": "stdout",
     "output_type": "stream",
     "text": [
      "Average Change: $ -2315.12\n"
     ]
    }
   ],
   "source": [
    "# Calculate average of the changes in Profit/Losses over the entire period.\n",
    "# Code reference: https://datatofish.com/use-pandas-to-calculate-stats-from-an-imported-csv-file/\n",
    "\n",
    "average_pl = round(budget_data['Changes'].mean(),2)\n",
    "\n",
    "print ('Average Change: $', average_pl)"
   ]
  },
  {
   "cell_type": "code",
   "execution_count": 12,
   "id": "ethical-pakistan",
   "metadata": {},
   "outputs": [
    {
     "name": "stdout",
     "output_type": "stream",
     "text": [
      "25    Feb-2012\n",
      "Name: Date, dtype: object\n",
      "44    Sep-2013\n",
      "Name: Date, dtype: object\n"
     ]
    }
   ],
   "source": [
    "# Get the greatest increase in profits (date and amount) over the entire period.\n",
    "# Code reference:\n",
    "# with Felipe's help on the lookup; need to cleanup the date output\n",
    " \n",
    "max_change = int(budget_data['Changes'].max())\n",
    "max_change_date = budget_data[budget_data['Changes']== max_change]\n",
    "print (max_change_date.Date)\n",
    "\n",
    "\n",
    "# Get greatest decrease in profits (date and amount) over the entire period.\n",
    "# Code reference:\n",
    "\n",
    "min_change = int(budget_data['Changes'].min())\n",
    "min_change_date = budget_data[budget_data['Changes']== min_change]\n",
    "print(min_change_date.Date)"
   ]
  },
  {
   "cell_type": "code",
   "execution_count": 17,
   "id": "graduate-progress",
   "metadata": {},
   "outputs": [
    {
     "name": "stdout",
     "output_type": "stream",
     "text": [
      "FINANCIAL ANALYSIS\n",
      "----------------------------\n",
      "Total Months: 86\n",
      "Total: $ 38382578\n",
      "Average Change: $ -2315.12\n",
      "Greatest Increase in Profits:  25    Feb-2012\n",
      "Name: Date, dtype: object ($ 1926159 )\n",
      "Greatest Decrease in Profits:  44    Sep-2013\n",
      "Name: Date, dtype: object ($ -2196167 )\n"
     ]
    }
   ],
   "source": [
    "# Print results\n",
    "\n",
    "print ('FINANCIAL ANALYSIS')\n",
    "print ('----------------------------')\n",
    "print ('Total Months:', month_count)\n",
    "print ('Total: $', total_pl)\n",
    "print ('Average Change: $', average_pl)\n",
    "print ('Greatest Increase in Profits: ', (max_change_date.Date), '($',max_change,')')\n",
    "print ('Greatest Decrease in Profits: ', (min_change_date.Date), '($',min_change,')')"
   ]
  },
  {
   "cell_type": "code",
   "execution_count": 21,
   "id": "defined-signal",
   "metadata": {},
   "outputs": [],
   "source": [
    "# Print results on a txt file\n",
    "# Code reference:\n",
    "\n",
    "output_txt = open(\"output.txt\", \"w\")\n",
    "\n",
    "print ('FINANCIAL ANALYSIS', file=output_txt)\n",
    "print ('----------------------------', file=output_txt)\n",
    "print ('Total Months:', month_count, file=output_txt)\n",
    "print ('Total: $', total_pl, file=output_txt)\n",
    "print ('Average Change: $', average_pl, file=output_txt)\n",
    "print ('Greatest Increase in Profits: ', (max_change_date.Date), '($',max_change,')', file=output_txt)\n",
    "print ('Greatest Decrease in Profits: ', (min_change_date.Date), '($',min_change,')', file=output_txt)\n",
    "\n",
    "output_txt.close()"
   ]
  },
  {
   "cell_type": "code",
   "execution_count": null,
   "id": "bridal-dylan",
   "metadata": {},
   "outputs": [],
   "source": []
  }
 ],
 "metadata": {
  "kernelspec": {
   "display_name": "Python 3",
   "language": "python",
   "name": "python3"
  },
  "language_info": {
   "codemirror_mode": {
    "name": "ipython",
    "version": 3
   },
   "file_extension": ".py",
   "mimetype": "text/x-python",
   "name": "python",
   "nbconvert_exporter": "python",
   "pygments_lexer": "ipython3",
   "version": "3.8.5"
  }
 },
 "nbformat": 4,
 "nbformat_minor": 5
}
