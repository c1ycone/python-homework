{
 "cells": [
  {
   "cell_type": "code",
   "execution_count": 120,
   "id": "documentary-holocaust",
   "metadata": {},
   "outputs": [],
   "source": [
    "# Import csv file into python using pandas\n",
    "\n",
    "import numpy as np\n",
    "import pandas as pd\n",
    "\n",
    "csv_data = pd.read_csv(r'/Users/coneychiwabee/fintech_uoftbootcamp/Homework/Python/python-homework/PyBank/PyBank_Resources_budget_data.csv')\n",
    "\n",
    "# print (csv_data)"
   ]
  },
  {
   "cell_type": "code",
   "execution_count": 122,
   "id": "broadband-joining",
   "metadata": {},
   "outputs": [],
   "source": [
    "# Add 3rd column with header \"Changes\" with differences of Profit/Losses from previous month = Month 1 minus Month 0 and so on\n",
    "# Code reference: https://stackoverflow.com/questions/23142967/adding-a-column-thats-result-of-difference-in-consecutive-rows-in-pandas\n",
    "\n",
    "budget_data = pd.DataFrame(csv_data)\n",
    "budget_data['Changes'] = budget_data['Profit/Losses'].diff(1)\n",
    "\n",
    "# print(budget_data)"
   ]
  },
  {
   "cell_type": "code",
   "execution_count": 124,
   "id": "organizational-performance",
   "metadata": {},
   "outputs": [],
   "source": [
    "# Calculate total number of months included in the dataset.\n",
    "# Code reference: \n",
    "\n",
    "month_count = len(csv_data)\n",
    "\n",
    "# print ('Total Months:', month_count)"
   ]
  },
  {
   "cell_type": "code",
   "execution_count": 126,
   "id": "positive-fusion",
   "metadata": {},
   "outputs": [],
   "source": [
    "# Calculate net total amount of Profit/Losses over the entire period.\n",
    "# Code reference: https://stackoverflow.com/questions/63420600/how-can-calculate-the-sum-of-a-column-but-taking-specific-rows-of-it-in-python\n",
    "\n",
    "total_pl = budget_data['Profit/Losses'].sum()\n",
    "\n",
    "# print ('Total: $', total_pl)"
   ]
  },
  {
   "cell_type": "code",
   "execution_count": 129,
   "id": "careful-pride",
   "metadata": {},
   "outputs": [],
   "source": [
    "# Calculate average of the changes in Profit/Losses over the entire period.\n",
    "# Code reference: https://datatofish.com/use-pandas-to-calculate-stats-from-an-imported-csv-file/\n",
    "\n",
    "average_pl = round(budget_data['Changes'].mean(),2)\n",
    "\n",
    "# print ('Average Change: $', average_pl)"
   ]
  },
  {
   "cell_type": "code",
   "execution_count": 130,
   "id": "internal-artwork",
   "metadata": {},
   "outputs": [
    {
     "name": "stdout",
     "output_type": "stream",
     "text": [
      "25    Feb-2012\n",
      "Name: Date, dtype: object\n",
      "44    Sep-2013\n",
      "Name: Date, dtype: object\n"
     ]
    }
   ],
   "source": [
    "# Get the greatest increase in profits (date and amount) over the entire period.\n",
    "# Code reference:\n",
    "# with Felipe's help with the lookup; need to cleanup the date output\n",
    " \n",
    "max_change = int(budget_data['Changes'].max())\n",
    "max_change_date = budget_data[budget_data['Changes']== max_change]\n",
    "print (max_change_date.Date)\n",
    "\n",
    "\n",
    "# Get greatest decrease in profits (date and amount) over the entire period.\n",
    "# Code reference:\n",
    "\n",
    "min_change = int(budget_data['Changes'].min())\n",
    "min_change_date = budget_data[budget_data['Changes']== min_change]\n",
    "print(min_change_date.Date)"
   ]
  },
  {
   "cell_type": "code",
   "execution_count": 136,
   "id": "retained-formula",
   "metadata": {},
   "outputs": [
    {
     "name": "stdout",
     "output_type": "stream",
     "text": [
      "FINANCIAL ANALYSIS\n",
      "----------------------------\n",
      "Total Months: 86\n",
      "Total: $ 38382578\n",
      "Average Change: $ -2315.12\n",
      "Greatest Increase in Profits:  25    Feb-2012\n",
      "Name: Date, dtype: object $( 1926159 )\n",
      "Greatest Decrease in Profits:  44    Sep-2013\n",
      "Name: Date, dtype: object $( -2196167 )\n"
     ]
    }
   ],
   "source": [
    "# Print results\n",
    "\n",
    "print ('FINANCIAL ANALYSIS')\n",
    "print ('----------------------------')\n",
    "print ('Total Months:', month_count)\n",
    "print ('Total: $', total_pl)\n",
    "print ('Average Change: $', average_pl)\n",
    "print ('Greatest Increase in Profits: ', (max_change_date.Date), '$(',max_change,')')\n",
    "print ('Greatest Decrease in Profits: ', (min_change_date.Date), '$(',min_change,')')"
   ]
  },
  {
   "cell_type": "code",
   "execution_count": null,
   "id": "equivalent-baking",
   "metadata": {},
   "outputs": [],
   "source": [
    "# PRINT RESULTS ON A SEPARATE TEXT FILE\n",
    "# Code reference:\n",
    "\n"
   ]
  }
 ],
 "metadata": {
  "kernelspec": {
   "display_name": "Python 3",
   "language": "python",
   "name": "python3"
  },
  "language_info": {
   "codemirror_mode": {
    "name": "ipython",
    "version": 3
   },
   "file_extension": ".py",
   "mimetype": "text/x-python",
   "name": "python",
   "nbconvert_exporter": "python",
   "pygments_lexer": "ipython3",
   "version": "3.8.5"
  }
 },
 "nbformat": 4,
 "nbformat_minor": 5
}
