{
 "cells": [
  {
   "cell_type": "code",
   "execution_count": 105,
   "id": "together-helena",
   "metadata": {},
   "outputs": [],
   "source": [
    "# Import csv file into python using pandas\n",
    "\n",
    "\n",
    "import numpy as np\n",
    "import pandas as pd\n",
    "\n",
    "csv_data = pd.read_csv(r'/Users/coneychiwabee/fintech_uoftbootcamp/Homework/Python/python-homework/PyBank/PyBank_Resources_budget_data.csv', index_col=0)\n",
    "\n",
    "#print (csv_data)"
   ]
  },
  {
   "cell_type": "code",
   "execution_count": 106,
   "id": "altered-tribute",
   "metadata": {},
   "outputs": [],
   "source": [
    "# Calculate monthly changes >> Add 3rd column with header \"Changes\" with differences of Profit/Losses from previous month = Month 1 minus Month 0 and so on\n",
    "# Code reference: https://stackoverflow.com/questions/23142967/adding-a-column-thats-result-of-difference-in-consecutive-rows-in-pandas\n",
    "\n",
    "budget_data = pd.DataFrame(csv_data)\n",
    "budget_data['Changes'] = budget_data['Profit/Losses'].diff(1)\n",
    "\n",
    "#print(budget_data)"
   ]
  },
  {
   "cell_type": "code",
   "execution_count": 107,
   "id": "prompt-judge",
   "metadata": {},
   "outputs": [],
   "source": [
    "# Calculate total number of months included in the dataset.\n",
    "\n",
    "month_count = len(budget_data)"
   ]
  },
  {
   "cell_type": "code",
   "execution_count": 108,
   "id": "nonprofit-creativity",
   "metadata": {},
   "outputs": [],
   "source": [
    "# Calculate net total amount of Profit/Losses over the entire period.\n",
    "# Code reference: https://datatofish.com/use-pandas-to-calculate-stats-from-an-imported-csv-file/\n",
    "\n",
    "\n",
    "total_pl = budget_data['Profit/Losses'].sum()"
   ]
  },
  {
   "cell_type": "code",
   "execution_count": 109,
   "id": "divided-classics",
   "metadata": {},
   "outputs": [],
   "source": [
    "# Calculate average of the changes in Profit/Losses over the entire period.\n",
    "# Code reference: https://datatofish.com/use-pandas-to-calculate-stats-from-an-imported-csv-file/\n",
    "\n",
    "average_pl = round(budget_data['Changes'].mean(),2)"
   ]
  },
  {
   "cell_type": "code",
   "execution_count": 110,
   "id": "specific-sending",
   "metadata": {},
   "outputs": [],
   "source": [
    "# TO DO: Get the greatest increase AND greatest decrease in profits (amount) over the entire period.\n",
    "# Code reference: https://datatofish.com/use-pandas-to-calculate-stats-from-an-imported-csv-file/\n",
    "\n",
    "\n",
    "max_change = int(budget_data['Changes'].max())\n",
    "min_change = int(budget_data['Changes'].min())\n",
    "\n",
    "\n",
    "# TO DO: Get the greatest increase AND greatest decrease in profits (date) over the entire period.\n",
    "# with Felipe's help on the date lookup but I still need to cleanup the output (remove row number, header, and dtype)\n",
    "# Code reference: https://stackoverflow.com/questions/40278845/suppress-name-dtype-from-python-pandas-describe\n",
    "\n",
    "max_change_date = budget_data[budget_data['Changes']== max_change].Date\n",
    "#print (max_change_date.to_string(header=None, index=None))\n",
    "\n",
    "min_change_date = budget_data[budget_data['Changes']== min_change].Date\n",
    "#print(min_change_date.to_string(header=None, index=None))"
   ]
  },
  {
   "cell_type": "code",
   "execution_count": 155,
   "id": "deluxe-millennium",
   "metadata": {},
   "outputs": [
    {
     "name": "stdout",
     "output_type": "stream",
     "text": [
      "Financial Analysis\n",
      "----------------------------\n",
      "Total Months: 86\n",
      "Total: $38382578\n",
      "Average Change: $-2315.12\n",
      "Greatest Increase in Profits: Feb-2012 $1926159\n",
      "Greatest Decrease in Profits: Sep-2013 $-2196167\n"
     ]
    }
   ],
   "source": [
    "# Print results in terminal\n",
    "# Code references: (1) remove whitespace in strings - https://www.w3schools.in/python-tutorial/remove-space-from-a-string-in-python/\n",
    "#                  (2) remove whitespaces - https://stackoverflow.com/questions/28924709/how-to-remove-space-between-and-numbers-in-python\n",
    "print ('Financial Analysis')\n",
    "print ('----------------------------')\n",
    "print ('Total Months:', month_count)\n",
    "print ('Total: ${}'.format(total_pl))\n",
    "print ('Average Change: ${}'.format(average_pl))\n",
    "print ('Greatest Increase in Profits:', ((max_change_date.to_string(header=None, index=None)).strip()), '${}'.format(max_change))\n",
    "print ('Greatest Decrease in Profits:', ((min_change_date.to_string(header=None, index=None)).strip()), '${}'.format(min_change))"
   ]
  },
  {
   "cell_type": "code",
   "execution_count": 156,
   "id": "italic-security",
   "metadata": {},
   "outputs": [],
   "source": [
    "# Print results on a txt file\n",
    "# Code reference: https://stackoverflow.com/questions/36571560/directing-print-output-to-a-txt-file/36571602\n",
    "\n",
    "output_txt = open(\"output.txt\", \"w\")\n",
    "\n",
    "print ('Financial Analysis', file=output_txt)\n",
    "print ('----------------------------', file=output_txt)\n",
    "print ('Total Months:', month_count, file=output_txt)\n",
    "print ('Total: ${}'.format(total_pl), file=output_txt)\n",
    "print ('Average Change: ${}'.format(average_pl), file=output_txt)\n",
    "print ('Greatest Increase in Profits:', ((max_change_date.to_string(header=None, index=None)).strip()), '${}'.format(max_change), file=output_txt)\n",
    "print ('Greatest Decrease in Profits:', ((min_change_date.to_string(header=None, index=None)).strip()), '${}'.format(min_change), file=output_txt)\n",
    "\n",
    "output_txt.close()"
   ]
  },
  {
   "cell_type": "code",
   "execution_count": null,
   "id": "beautiful-district",
   "metadata": {},
   "outputs": [],
   "source": []
  }
 ],
 "metadata": {
  "kernelspec": {
   "display_name": "Python 3",
   "language": "python",
   "name": "python3"
  },
  "language_info": {
   "codemirror_mode": {
    "name": "ipython",
    "version": 3
   },
   "file_extension": ".py",
   "mimetype": "text/x-python",
   "name": "python",
   "nbconvert_exporter": "python",
   "pygments_lexer": "ipython3",
   "version": "3.8.5"
  }
 },
 "nbformat": 4,
 "nbformat_minor": 5
}
